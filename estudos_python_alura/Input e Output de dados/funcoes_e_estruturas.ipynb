{
 "cells": [
  {
   "cell_type": "code",
   "execution_count": 1,
   "metadata": {},
   "outputs": [],
   "source": [
    "import matplotlib.pyplot as plt \n"
   ]
  },
  {
   "cell_type": "code",
   "execution_count": 2,
   "metadata": {},
   "outputs": [
    {
     "data": {
      "text/plain": [
       "<BarContainer object of 3 artists>"
      ]
     },
     "execution_count": 2,
     "metadata": {},
     "output_type": "execute_result"
    },
    {
     "data": {
      "image/png": "[encoded data removed]",
      "text/plain": [
       "<Figure size 640x480 with 1 Axes>"
      ]
     },
     "metadata": {},
     "output_type": "display_data"
    }
   ],
   "source": [
    "# grafico de barras com notas \n",
    "estudantes = ['joao','maria', 'jose']\n",
    "notas = [8.5,9, 6.5]\n",
    "plt.bar(x=estudantes,height=notas)"
   ]
  },
  {
   "cell_type": "markdown",
   "metadata": {},
   "source": [
    "calcular a média com uma casa decimal sobre as Notas do(a) estudante"
   ]
  },
  {
   "cell_type": "code",
   "execution_count": 3,
   "metadata": {},
   "outputs": [],
   "source": [
    "# calcular a média com uma casa decimal sobre as Notas do(a) estudante\n",
    "notas = {'19 Trimestre': 8.5, '2° Trimestre': 9.5,'3º trimestre': 7}\n",
    "\n",
    "def media(valores):\n",
    "    if type(valores) is dict:\n",
    "        soma_values  = sum(valores.values())\n",
    "        conta_values = len(valores.values())\n",
    "        return round(soma_values/conta_values,1)\n",
    "    else:\n",
    "        soma_values  = sum(valores)\n",
    "        conta_values = len(valores)\n",
    "        return round(soma_values/conta_values,1)"
   ]
  },
  {
   "cell_type": "code",
   "execution_count": 4,
   "metadata": {},
   "outputs": [
    {
     "data": {
      "text/plain": [
       "8.3"
      ]
     },
     "execution_count": 4,
     "metadata": {},
     "output_type": "execute_result"
    }
   ],
   "source": [
    "media(notas)"
   ]
  },
  {
   "cell_type": "markdown",
   "metadata": {},
   "source": [
    " Através da media do estudando descobrir se ele foi aprovado ou reprovado na materia."
   ]
  },
  {
   "cell_type": "code",
   "execution_count": 5,
   "metadata": {},
   "outputs": [],
   "source": [
    "# Através da media do estudando descobrir se ele foi aprovado ou reprovado na materia.\n",
    "\n",
    "def status_estudante ():\n",
    "    media_estudante = media(notas)\n",
    "\n",
    "    if media_estudante >= 6.0:\n",
    "        return (media_estudante,'aprovado')\n",
    "    else:\n",
    "        return (media_estudante,'reprovado')\n",
    "\n"
   ]
  },
  {
   "cell_type": "code",
   "execution_count": 6,
   "metadata": {},
   "outputs": [
    {
     "name": "stdout",
     "output_type": "stream",
     "text": [
      "O estudante obteve media de 8.3, ele está aprovado\n"
     ]
    }
   ],
   "source": [
    "resultado = status_estudante()\n",
    "\n",
    "print(f'O estudante obteve media de {resultado[0]}, ele está {resultado[1]}')"
   ]
  },
  {
   "cell_type": "markdown",
   "metadata": {},
   "source": [
    "Retorne as seguintes informações:\n",
    "\n",
    "#A leitura do tamanho da lista\n",
    "\n",
    "#A leitura do maior e menor valor\n",
    "\n",
    "#A soma dos valores da lista"
   ]
  },
  {
   "cell_type": "code",
   "execution_count": 8,
   "metadata": {},
   "outputs": [
    {
     "name": "stdout",
     "output_type": "stream",
     "text": [
      "A lista tem tamanho 17, sendo o maior valor: 99 e menor valor: 11\n"
     ]
    }
   ],
   "source": [
    "# RETORNAR TAMANHO, MAIOR VALOR E MENOR VALOR DE UMA LISTA.\n",
    "\n",
    "lista = [16, 14, 63, 65, 17, 99, 70, 11, 20, 48, 79, 32, 17, 89, 12, 25, 66]\n",
    "print(f'A lista tem tamanho {len(lista)}, sendo o maior valor: {max(lista)} e menor valor: {min(lista)}')"
   ]
  },
  {
   "cell_type": "code",
   "execution_count": null,
   "metadata": {},
   "outputs": [],
   "source": []
  },
  {
   "cell_type": "markdown",
   "metadata": {},
   "source": [
    "\n",
    "Escreva uma função que gere a tabuada de um número inteiro de 1 a 10, de acordo com a escolha da pessoa usuária.\n",
    "\n"
   ]
  },
  {
   "cell_type": "code",
   "execution_count": 10,
   "metadata": {},
   "outputs": [
    {
     "name": "stdout",
     "output_type": "stream",
     "text": [
      "3 X 0  = 0\n",
      "3 X 1  = 3\n",
      "3 X 2  = 6\n",
      "3 X 3  = 9\n",
      "3 X 4  = 12\n",
      "3 X 5  = 15\n",
      "3 X 6  = 18\n",
      "3 X 7  = 21\n",
      "3 X 8  = 24\n",
      "3 X 9  = 27\n",
      "3 X 10  = 30\n"
     ]
    }
   ],
   "source": [
    "# Monte uma lista apenas com o valor resultado do numero escolhido \n",
    "def tabuada():\n",
    "    numero_escolhido = int(input('escolha um numero: '))\n",
    "    for i in range(11):\n",
    "        print(f'{numero_escolhido} X {i}  = {numero_escolhido*i}')\n",
    "\n",
    "tabuada()"
   ]
  },
  {
   "cell_type": "markdown",
   "metadata": {},
   "source": [
    " Crie uma lista dos quadrados dos números da seguinte lista [1, 2, 3, 4, 5, 6, 7, 8, 9, 10]. Lembre-se de utilizar as funções lambda e map() para calcular o quadrado de cada elemento da lista.\n"
   ]
  },
  {
   "cell_type": "code",
   "execution_count": null,
   "metadata": {},
   "outputs": [
    {
     "name": "stdout",
     "output_type": "stream",
     "text": [
      "[1, 4, 9, 16, 25, 36, 49, 64, 81, 100]\n"
     ]
    }
   ],
   "source": [
    "\n",
    "lista_quadrado = [1, 2, 3, 4, 5, 6, 7, 8, 9, 10]\n",
    "print(list(map(lambda x: x**2,lista_quadrado)))"
   ]
  },
  {
   "cell_type": "markdown",
   "metadata": {},
   "source": [
    "\n",
    "Você foi contratado(a) como cientista de dados de uma associação de skate. Para analisar as notas recebidas de skatistas em algumas competições ao longo do ano, você precisa criar um código que calcula a pontuação dos(as) atletas. Para isso, o seu código deve receber 5 notas digitadas pelas pessoas juradas.\n",
    "\n",
    "Para calcular a pontuação de um(a) skatista, você precisa eliminar a maior e a menor pontuação dentre as 5 notas e tirar a média das 3 notas que sobraram. Retorne a média para apresentar o texto:"
   ]
  },
  {
   "cell_type": "code",
   "execution_count": null,
   "metadata": {},
   "outputs": [
    {
     "data": {
      "text/plain": [
       "5.3"
      ]
     },
     "execution_count": 212,
     "metadata": {},
     "output_type": "execute_result"
    }
   ],
   "source": [
    "\n",
    "def calcular_pontuacao_skatista():\n",
    "    lista_notas_juiz = []\n",
    "\n",
    "    for nota in range(5):\n",
    "        nota_juiz = int(input(' {i}ª nota: '))\n",
    "        lista_notas_juiz.append(nota_juiz)\n",
    "\n",
    "\n",
    "    lista_notas_juiz.remove(max(lista_notas_juiz))\n",
    "    lista_notas_juiz.remove(min(lista_notas_juiz))\n",
    "\n",
    "    return media(lista_notas_juiz)\n",
    "\n",
    "calcular_pontuacao_skatista()"
   ]
  },
  {
   "cell_type": "markdown",
   "metadata": {},
   "source": [
    "Você recebeu uma demanda para tratar 2 listas com os nomes e sobrenomes de cada estudante concatenando-as para apresentar seus nomes completos na forma Nome Sobrenome."
   ]
  },
  {
   "cell_type": "code",
   "execution_count": null,
   "metadata": {},
   "outputs": [
    {
     "data": {
      "text/plain": [
       "['João Silva', 'Maria Souza', 'José Tavares']"
      ]
     },
     "execution_count": 216,
     "metadata": {},
     "output_type": "execute_result"
    }
   ],
   "source": [
    "nomes = [\"joão\", \"MaRia\", \"JOSÉ\"]\n",
    "sobrenomes = [\"SILVA\", \"souza\", \"Tavares\"]\n",
    "\n",
    "\n",
    "list(map(lambda x, y: x.title() +\" \"+y.title() ,nomes,sobrenomes))\n"
   ]
  },
  {
   "cell_type": "markdown",
   "metadata": {},
   "source": [
    " Como cientista de dados em um time de futebol, você precisa implementar novas formas de coleta de dados sobre o desempenho de jogadores e do time como um todo. Sua primeira ação é criar uma forma de calcular a pontuação do time no campeonato nacional a partir dos dados de gols marcados e sofridos em cada jogo.\n",
    "\n",
    "Escreva uma função chamada calcula_pontos que recebe como parâmetros duas listas de números inteiros, representando os gols marcados e sofridos pelo time em cada partida do campeonato. A função deve retornar a pontuação do time e o aproveitamento em percentual, levando em consideração que a vitória vale 3 pontos, o empate vale 1 ponto e a derrota 0 pontos.\n",
    "\n",
    "Observação: se a quantidade de gols marcados numa partida for maior que a de sofridos, o time venceu. Caso seja igual, o time empatou e se for menor, o time perdeu. Para calcular o aproveitamento devemos fazer a razão entre a pontuação do time pela pontuação máxima que ele poderia receber.\n"
   ]
  },
  {
   "cell_type": "code",
   "execution_count": null,
   "metadata": {},
   "outputs": [],
   "source": [
    "gols_marcados = [2, 1, 3, 1, 0]\n",
    "gols_sofridos = [1, 2, 2, 1, 3]\n",
    "\n",
    "    \n",
    "def calcula_pontos(primeira_lista, segunda_lista):\n",
    "    pontuacao = 0\n",
    "    for i in range(len(primeira_lista)):\n",
    "        #i -= i\n",
    "        if primeira_lista[i] > segunda_lista[i]:\n",
    "            pontuacao += 3\n",
    "        \n",
    "        elif primeira_lista[i] == segunda_lista[i]:\n",
    "            pontuacao += 1\n",
    "\n",
    "\n",
    "    aproveitamento = round(pontuacao / (len(primeira_lista) * 3) * 100 ,2) \n",
    "\n",
    "    print(f\"A pontuação do time foi {pontuacao} pontos e seu aproveitamento é  {aproveitamento}%\")\n"
   ]
  },
  {
   "cell_type": "code",
   "execution_count": null,
   "metadata": {},
   "outputs": [
    {
     "name": "stdout",
     "output_type": "stream",
     "text": [
      "A pontuação do time foi 7 pontos e seu aproveitamento é  46.67%\n"
     ]
    }
   ],
   "source": [
    "calcula_pontos(gols_marcados, gols_sofridos)"
   ]
  },
  {
   "cell_type": "markdown",
   "metadata": {},
   "source": [
    "Você recebeu o desafio de criar um código que calcula os gastos de uma viagem para um das quatro cidades partindo de Recife, sendo elas: Salvador, Fortaleza, Natal e Aracaju.\n",
    "\n",
    "O custo da diária do hotel é de 150 reais em todas elas e o consumo de gasolina na viagem de carro é de 14 km/l, sendo que o valor da gasolina é de 5 reais o litro. O gastos com passeios e alimentação a se fazer em cada uma delas por dia seria de [200, 400, 250, 300], respectivamente.\n",
    "\n",
    "Sabendo que as distâncias entre Recife e cada uma das cidades é de aproximadamente [850, 800, 300, 550] km, crie três funções nas quais: a 1ª função calcule os gastos com hotel (gasto_hotel), a 2ª calcule os gastos com a gasolina (gasto_gasolina) e a 3ª os gastos com passeio e alimentação (gasto_passeio).\n",
    "\n",
    "Para testar, simule uma viagem de 3 dias para Salvador partindo de Recife. Considere a viagem de ida e volta de carro.\n"
   ]
  },
  {
   "cell_type": "code",
   "execution_count": 1,
   "metadata": {},
   "outputs": [],
   "source": [
    "def gasto_hotel (dias_alugados):\n",
    "    return dias_alugados * 150\n",
    "\n",
    "\n",
    "def gastos_gasolina(pos_cidade):\n",
    "    kilometros = [850, 800, 300, 550]\n",
    "    #pos = valida_cidade()\n",
    "    return round((kilometros[pos_cidade] / 14) * 5,2)  \n",
    "\n",
    "\n",
    "def gastos_passeio(qtd_dias,pos_cidade):\n",
    "    passeio = [200, 400, 250, 300]\n",
    "    return (passeio[pos_cidade] * qtd_dias)\n",
    "\n",
    "\n",
    "def valida_cidade():\n",
    "    cidade = input(\"Qual a cidade? [Salvador, Fortaleza, Natal ou Aracaju]: \").title().strip()  \n",
    "    if cidade == \"Salvador\":\n",
    "        posicao_lista = 0\n",
    "    elif cidade == \"Fortaleza\":\n",
    "        posicao_lista = 1\n",
    "    elif cidade == \"Natal\":\n",
    "        posicao_lista = 2 \n",
    "    elif cidade == \"Aracaju\":\n",
    "        posicao_lista = 3\n",
    "\n",
    "    return (cidade,posicao_lista)\n"
   ]
  },
  {
   "cell_type": "code",
   "execution_count": 2,
   "metadata": {},
   "outputs": [
    {
     "name": "stdout",
     "output_type": "stream",
     "text": [
      "Com base nos gastos definidos, uma viagem de 5 dias para Natal saindo de Recife custaria 2107.14 reais\n"
     ]
    }
   ],
   "source": [
    "qtd_dias = int(input('qunatidade de dias: '))\n",
    "city = valida_cidade()\n",
    "\n",
    "gastos_totais = gasto_hotel(qtd_dias) + gastos_gasolina(city[1]) + gastos_passeio(qtd_dias,city[1])\n",
    "print(f\"Com base nos gastos definidos, uma viagem de {qtd_dias} dias para {city[0]} saindo de Recife custaria {round(gastos_totais, 2)} reais\")\n",
    "\n"
   ]
  }
 ],
 "metadata": {
  "kernelspec": {
   "display_name": "Python 3",
   "language": "python",
   "name": "python3"
  },
  "language_info": {
   "codemirror_mode": {
    "name": "ipython",
    "version": 3
   },
   "file_extension": ".py",
   "mimetype": "text/x-python",
   "name": "python",
   "nbconvert_exporter": "python",
   "pygments_lexer": "ipython3",
   "version": "3.10.7"
  },
  "orig_nbformat": 4
 },
 "nbformat": 4,
 "nbformat_minor": 2
}
