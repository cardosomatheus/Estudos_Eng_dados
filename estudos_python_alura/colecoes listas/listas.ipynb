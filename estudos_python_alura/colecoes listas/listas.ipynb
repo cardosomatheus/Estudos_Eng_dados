{
 "cells": [
  {
   "cell_type": "code",
   "execution_count": 34,
   "metadata": {},
   "outputs": [],
   "source": [
    "idades = [39,27,29,24,23,10,19]\n",
    "idades.remove(29)\n",
    "idades.append(28)\n",
    "#idades.clear()"
   ]
  },
  {
   "cell_type": "code",
   "execution_count": 35,
   "metadata": {},
   "outputs": [
    {
     "data": {
      "text/plain": [
       "[39, 27, 24, 23, 10, 19, 28]"
      ]
     },
     "execution_count": 35,
     "metadata": {},
     "output_type": "execute_result"
    }
   ],
   "source": [
    "idades"
   ]
  },
  {
   "cell_type": "code",
   "execution_count": 36,
   "metadata": {},
   "outputs": [],
   "source": [
    "idades.insert(0,20) "
   ]
  },
  {
   "cell_type": "code",
   "execution_count": 37,
   "metadata": {},
   "outputs": [
    {
     "data": {
      "text/plain": [
       "[20, 39, 27, 24, 23, 10, 19, 28]"
      ]
     },
     "execution_count": 37,
     "metadata": {},
     "output_type": "execute_result"
    }
   ],
   "source": [
    "idades"
   ]
  },
  {
   "cell_type": "code",
   "execution_count": 39,
   "metadata": {},
   "outputs": [
    {
     "data": {
      "text/plain": [
       "[21, 40, 28, 25, 24, 11, 20, 29]"
      ]
     },
     "execution_count": 39,
     "metadata": {},
     "output_type": "execute_result"
    }
   ],
   "source": [
    "idades_proximo_ano =  [(idade+1) for idade in idades]\n",
    "\n",
    "idades_proximo_ano"
   ]
  },
  {
   "cell_type": "code",
   "execution_count": 40,
   "metadata": {},
   "outputs": [
    {
     "data": {
      "text/plain": [
       "[39, 27, 24, 23, 28]"
      ]
     },
     "execution_count": 40,
     "metadata": {},
     "output_type": "execute_result"
    }
   ],
   "source": [
    "[(idade) for idade in idades if idade >= 21]"
   ]
  },
  {
   "cell_type": "code",
   "execution_count": 1,
   "metadata": {},
   "outputs": [],
   "source": [
    "class ContaCorrente:\n",
    "    def __init__(self,codigo):\n",
    "        self.codigo = codigo\n",
    "        self.saldo  = 0\n",
    "    def __str__(self):\n",
    "        return f'codigo: {self.codigo} saldo:{self.saldo}'\n",
    "    \n",
    "    def depositar(self,valor):\n",
    "        self.saldo += valor\n",
    "\n",
    "    def sacar(self,valor):\n",
    "        self.saldo -= valor\n",
    "\n",
    "    def depositar_contas(self,valor):\n",
    "        for conta in contas:\n",
    "            self.depositar(100)\n",
    "\n",
    "class ContaSalario:\n",
    "    def __init__(self,codigo):\n",
    "        self.codigo = codigo\n",
    "        self.saldo  = 0\n",
    "    def __str__(self):\n",
    "        return f'codigo: {self.codigo} saldo:{self.saldo}'\n",
    "    \n",
    "    def depositar(self,valor):\n",
    "        self.saldo += valor\n",
    "\n",
    "    def sacar(self,valor):\n",
    "        self.saldo -= valor\n",
    "\n",
    "    def depositar_contas(self,valor):\n",
    "        for conta in contas:\n",
    "            self.depositar(100)"
   ]
  },
  {
   "cell_type": "code",
   "execution_count": 7,
   "metadata": {},
   "outputs": [
    {
     "name": "stdout",
     "output_type": "stream",
     "text": [
      "codigo: 20 saldo:100\n",
      "codigo: 20 saldo:100\n"
     ]
    }
   ],
   "source": [
    "conta_gui = ContaCorrente(15)\n",
    "conta_dani = ContaCorrente(20)\n",
    "conta_dani.depositar(100)\n",
    "\n",
    "contas = [conta_dani,conta_gui]\n",
    "\n",
    "for conta in contas:\n",
    "    print(conta_dani)\n",
    "\n"
   ]
  }
 ],
 "metadata": {
  "kernelspec": {
   "display_name": "Python 3",
   "language": "python",
   "name": "python3"
  },
  "language_info": {
   "codemirror_mode": {
    "name": "ipython",
    "version": 3
   },
   "file_extension": ".py",
   "mimetype": "text/x-python",
   "name": "python",
   "nbconvert_exporter": "python",
   "pygments_lexer": "ipython3",
   "version": "3.10.7"
  },
  "orig_nbformat": 4,
  "vscode": {
   "interpreter": {
    "hash": "26de051ba29f2982a8de78e945f0abaf191376122a1563185a90213a26c5da77"
   }
  }
 },
 "nbformat": 4,
 "nbformat_minor": 2
}
