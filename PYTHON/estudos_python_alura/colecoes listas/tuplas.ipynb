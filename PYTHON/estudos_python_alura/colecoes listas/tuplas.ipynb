{
 "cells": [
  {
   "cell_type": "code",
   "execution_count": 9,
   "metadata": {},
   "outputs": [
    {
     "data": {
      "text/plain": [
       "{'bem': 1,\n",
       " 'vindo': 1,\n",
       " 'meu': 1,\n",
       " 'nome': 2,\n",
       " 'é': 1,\n",
       " 'guilherme': 1,\n",
       " 'e': 2,\n",
       " 'eu': 1,\n",
       " 'gosto': 2,\n",
       " 'de': 2,\n",
       " 'cachorros': 1}"
      ]
     },
     "execution_count": 9,
     "metadata": {},
     "output_type": "execute_result"
    }
   ],
   "source": [
    "meu_texto = \"Bem vindo meu nome é guilherme e eu gosto de nome e gosto de cachorros\"\n",
    "meu_texto = meu_texto.lower().split()\n",
    "aparicoes = {}\n",
    "\n",
    "for palavra in meu_texto:\n",
    "    ate_agora = aparicoes.get(palavra,0)\n",
    "    aparicoes[palavra] = ate_agora + 1\n",
    "\n",
    "\n",
    "aparicoes"
   ]
  },
  {
   "cell_type": "code",
   "execution_count": 17,
   "metadata": {},
   "outputs": [
    {
     "data": {
      "text/plain": [
       "Counter({'bem': 1,\n",
       "         'vindo': 1,\n",
       "         'meu': 1,\n",
       "         'nome': 2,\n",
       "         'é': 1,\n",
       "         'guilherme': 1,\n",
       "         'e': 2,\n",
       "         'eu': 1,\n",
       "         'gosto': 2,\n",
       "         'de': 2,\n",
       "         'cachorros': 1})"
      ]
     },
     "execution_count": 17,
     "metadata": {},
     "output_type": "execute_result"
    }
   ],
   "source": [
    "from collections import Counter\n",
    "\n",
    "aparicoes = Counter(meu_texto)\n",
    "\n",
    "aparicoes"
   ]
  }
 ],
 "metadata": {
  "kernelspec": {
   "display_name": "Python 3",
   "language": "python",
   "name": "python3"
  },
  "language_info": {
   "codemirror_mode": {
    "name": "ipython",
    "version": 3
   },
   "file_extension": ".py",
   "mimetype": "text/x-python",
   "name": "python",
   "nbconvert_exporter": "python",
   "pygments_lexer": "ipython3",
   "version": "3.10.7"
  },
  "orig_nbformat": 4,
  "vscode": {
   "interpreter": {
    "hash": "26de051ba29f2982a8de78e945f0abaf191376122a1563185a90213a26c5da77"
   }
  }
 },
 "nbformat": 4,
 "nbformat_minor": 2
}
