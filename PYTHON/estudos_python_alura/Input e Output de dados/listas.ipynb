{
 "cells": [
  {
   "cell_type": "code",
   "execution_count": 52,
   "metadata": {},
   "outputs": [],
   "source": [
    "from random import randint"
   ]
  },
  {
   "cell_type": "code",
   "execution_count": 67,
   "metadata": {},
   "outputs": [
    {
     "name": "stdout",
     "output_type": "stream",
     "text": [
      "[[('João', 'J720'), ('Maria', 'M205'), ('José', 'J371'), ('Cláudia', 'C546'), ('Ana', 'A347')], [[8.0, 9.0, 10.0], [9.0, 7.0, 6.0], [3.4, 7.0, 7.0], [5.5, 6.6, 8.0], [6.0, 10.0, 9.5]], [9.0, 7.3, 5.8, 6.7, 8.5]]\n"
     ]
    }
   ],
   "source": [
    "# Transformando varias listas em uma unica lista:\n",
    "nomes = [('João', 'J720'), ('Maria', 'M205'), ('José', 'J371'), ('Cláudia', 'C546'), ('Ana', 'A347')]\n",
    "notas = [[8.0, 9.0, 10.0], [9.0, 7.0, 6.0], [3.4, 7.0, 7.0], [5.5, 6.6, 8.0], [6.0, 10.0, 9.5]]\n",
    "medias = [9.0, 7.3, 5.8, 6.7, 8.5]\n",
    "\n",
    "lista_completa = [nomes, notas, medias]\n",
    "print(lista_completa)"
   ]
  },
  {
   "cell_type": "code",
   "execution_count": 59,
   "metadata": {},
   "outputs": [],
   "source": [
    "##############################################################################################"
   ]
  },
  {
   "cell_type": "code",
   "execution_count": 81,
   "metadata": {},
   "outputs": [
    {
     "data": {
      "text/plain": [
       "[24, 10, 16]"
      ]
     },
     "execution_count": 81,
     "metadata": {},
     "output_type": "execute_result"
    }
   ],
   "source": [
    "# 1. Crie um código para imprimir a soma dos elementos de cada uma das listas contidas na seguinte lista:\n",
    "\n",
    "lista_de_listas = [[4,6,5,9], [1,0,7,2], [3,4,1,8]]\n",
    "soma = [sum(x) for x in lista_de_listas]\n",
    "soma"
   ]
  },
  {
   "cell_type": "code",
   "execution_count": 82,
   "metadata": {},
   "outputs": [
    {
     "data": {
      "text/plain": [
       "[81, 67, 83]"
      ]
     },
     "execution_count": 82,
     "metadata": {},
     "output_type": "execute_result"
    }
   ],
   "source": [
    "# 2. Crie um código para gerar uma lista que armazena o terceiro elemento de cada tupla contida na seguinte lista de tuplas:\n",
    "lista_de_tuplas = [('Pedro', 1.74, 81), ('Júlia', 1.65, 67), ('Otávio', 1.81, 83)]\n",
    "\n",
    "terceiro_elemento = [x[2] for x in lista_de_tuplas]\n",
    "terceiro_elemento\n"
   ]
  },
  {
   "cell_type": "code",
   "execution_count": 89,
   "metadata": {},
   "outputs": [
    {
     "data": {
      "text/plain": [
       "[(0, 'Pedro'), (1, 'Júlia'), (2, 'Otávio'), (3, 'Eduardo')]"
      ]
     },
     "execution_count": 89,
     "metadata": {},
     "output_type": "execute_result"
    }
   ],
   "source": [
    "\"\"\"3. A partir da lista: lista = ['Pedro', 'Júlia', 'Otávio', 'Eduardo'], crie um código para gerar uma lista de tuplas em que cada tupla tenha o primeiro elemento \n",
    "como a posição do nome na lista original e o segundo elemento sendo o próprio nome.\n",
    "\"\"\"\n",
    "lista = ['Pedro', 'Júlia', 'Otávio', 'Eduardo']\n",
    "tupla_de_nomes = [(lista.index(x), x) for x in lista]\n",
    "tupla_de_nomes\n",
    "\n"
   ]
  },
  {
   "cell_type": "code",
   "execution_count": 97,
   "metadata": {},
   "outputs": [
    {
     "data": {
      "text/plain": [
       "[1700, 1400, 1900]"
      ]
     },
     "execution_count": 97,
     "metadata": {},
     "output_type": "execute_result"
    }
   ],
   "source": [
    "\"\"\"4. Crie uma lista usando o list comprehension que armazena somente o valor numérico de cada tupla caso o primeiro elemento seja 'Apartamento',\n",
    " a partir da seguinte lista de tuplas:\n",
    "\"\"\"\n",
    "aluguel = [('Apartamento', 1700), ('Apartamento', 1400), ('Casa', 2150), ('Apartamento', 1900), ('Casa', 1100)]\n",
    "apartamento = [ x[1] for x in aluguel if x[0] == 'Apartamento']\n",
    "apartamento\n"
   ]
  },
  {
   "cell_type": "code",
   "execution_count": 101,
   "metadata": {},
   "outputs": [
    {
     "data": {
      "text/plain": [
       "{'Jan': 860,\n",
       " 'Fev': 490,\n",
       " 'Mar': 1010,\n",
       " 'Abr': 780,\n",
       " 'Mai': 900,\n",
       " 'Jun': 630,\n",
       " 'Jul': 590,\n",
       " 'Ago': 770,\n",
       " 'Set': 620,\n",
       " 'Out': 560,\n",
       " 'Nov': 840,\n",
       " 'Dez': 360}"
      ]
     },
     "execution_count": 101,
     "metadata": {},
     "output_type": "execute_result"
    }
   ],
   "source": [
    "###5. Crie um dicionário usando o dict comprehension em que as chaves estão na lista meses  e os valores estão em despesa \n",
    "\n",
    "meses = ['Jan', 'Fev', 'Mar', 'Abr', 'Mai', 'Jun', 'Jul', 'Ago', 'Set', 'Out', 'Nov', 'Dez']\n",
    "despesa = [860, 490, 1010, 780, 900, 630, 590, 770, 620, 560, 840, 360]\n",
    "\n",
    "dict_meses = {meses[i]:despesa[i] for i in range (len(meses))} \n",
    "dict_meses"
   ]
  },
  {
   "cell_type": "code",
   "execution_count": 106,
   "metadata": {},
   "outputs": [
    {
     "data": {
      "text/plain": [
       "[('2022', 8883), ('2022', 7688), ('2022', 9544), ('2022', 8190)]"
      ]
     },
     "execution_count": 106,
     "metadata": {},
     "output_type": "execute_result"
    }
   ],
   "source": [
    "\"\"\"\n",
    "6. Uma loja possui um banco de dados com a informação de venda de cada representante e de cada ano e precisa filtrar somente os dados do ano 2022 com venda maior\n",
    "do que 6000. A loja forneceu uma amostra contendo apenas as colunas com os anos e os valores de venda para que você ajude a realizar a filtragem dos dados a partir de um\n",
    "código:\n",
    "\"\"\"\n",
    "vendas = [('2023', 4093), ('2021', 4320), ('2021', 5959), ('2022', 8883), ('2023', 9859), ('2022', 5141), ('2022', 7688), ('2022', 9544), ('2023', 4794), ('2021', 7178), ('2022', 3030), ('2021', 7471), ('2022', 4226), ('2022', 8190), ('2021', 9680), ('2022', 5616)]\n",
    "\n",
    "vendas_2022_maior_6000 = [x for x in vendas if x[0] == '2022' and x[1] > 6000]\n",
    "vendas_2022_maior_6000\n"
   ]
  },
  {
   "cell_type": "code",
   "execution_count": 111,
   "metadata": {},
   "outputs": [
    {
     "data": {
      "text/plain": [
       "[('v', 60),\n",
       " ('v', 65),\n",
       " ('v', 62),\n",
       " ('v', 53),\n",
       " ('v', 58),\n",
       " ('v', 66),\n",
       " ('v', 62),\n",
       " ('v', 52)]"
      ]
     },
     "execution_count": 111,
     "metadata": {},
     "output_type": "execute_result"
    }
   ],
   "source": [
    "\"\"\"\"\n",
    "7. Uma clínica analisa dados de pacientes e armazena o valor numérico da glicose em um banco de dados e gostaria de rotular os dados da seguinte maneira:\n",
    "\n",
    "Glicose igual ou inferior a 70: 'Hipoglicemia'\n",
    "Glicose entre 70 a 99: 'Normal'\n",
    "Glicose entre 100 e 125: 'Alterada'\n",
    "Glicose superior a 125: 'Diabetes'\n",
    "A clínica disponibilizou parte dos valores e sua tarefa é criar uma lista de tuplas usando list comprehension contendo o rótulo e o valor da glicemia em cada tupla.\n",
    "\"\"\"\n",
    "\n",
    "glicemia = [129, 82, 60, 97, 101, 65, 62, 167, 87, 53, 58, 92, 66, 120, 109, 62, 86, 96, 103, 88, 155, 52, 89, 73]\n",
    "\n",
    "rotulos = [('Hipoglicemia', glicose) if glicose <= 70 else ('Normal', glicose) if glicose < 100 else ('Alterada', glicose) if glicose < 125 else ('Diabetes', glicose) for glicose in glicemia]\n",
    "print(rotulos)\n",
    "\n"
   ]
  },
  {
   "cell_type": "code",
   "execution_count": 2,
   "metadata": {},
   "outputs": [
    {
     "name": "stdout",
     "output_type": "stream",
     "text": [
      "[(0, 15, 93.0, 1395.0), (1, 12, 102.0, 1224.0), (2, 1, 18.0, 18.0), (3, 15, 41.0, 615.0), (4, 2, 122.0, 244.0), (5, 11, 14.0, 154.0), (6, 2, 71.0, 142.0), (7, 12, 48.0, 576.0), (8, 2, 14.0, 28.0), (9, 4, 144.0, 576.0)]\n"
     ]
    }
   ],
   "source": [
    "\"\"\"8. Um e-commerce possui as informações de id de venda, quantidade vendida e preço do produto divididos nas seguintes listas:\n",
    "\n",
    "id = [0, 1, 2, 3, 4, 5, 6, 7, 8, 9]\n",
    "quantidade = [15, 12, 1, 15, 2, 11, 2, 12, 2, 4]\n",
    "preco = [93.0, 102.0, 18.0, 41.0, 122.0, 14.0, 71.0, 48.0, 14.0, 144.0]\n",
    "\n",
    "O e-commerce precisa estruturar esses dados em uma tabela contendo o valor total da venda, que é obtida multiplicando a quantidade pelo preço unitário. Além disso, a tabela precisa conter um cabeçalho indicando as colunas: 'id', 'quantidade', 'preco' e 'total'.\n",
    "\n",
    "Crie uma lista de tuplas em que cada tupla tenha id, quantidade, preço e valor total, na qual a primeira tupla é o cabeçalho da tabela.\n",
    "\"\"\"\n",
    "\n",
    "id = [0, 1, 2, 3, 4, 5, 6, 7, 8, 9]\n",
    "quantidade = [15, 12, 1, 15, 2, 11, 2, 12, 2, 4]\n",
    "preco = [93.0, 102.0, 18.0, 41.0, 122.0, 14.0, 71.0, 48.0, 14.0, 144.0]\n",
    "\n",
    "total_vendas = [(id[i],quantidade[i],preco[i],quantidade[i] * preco[i]) for i in range(len(quantidade))]\n",
    "\n",
    "print(total_vendas)"
   ]
  }
 ],
 "metadata": {
  "kernelspec": {
   "display_name": "Python 3",
   "language": "python",
   "name": "python3"
  },
  "language_info": {
   "codemirror_mode": {
    "name": "ipython",
    "version": 3
   },
   "file_extension": ".py",
   "mimetype": "text/x-python",
   "name": "python",
   "nbconvert_exporter": "python",
   "pygments_lexer": "ipython3",
   "version": "3.10.7"
  },
  "orig_nbformat": 4
 },
 "nbformat": 4,
 "nbformat_minor": 2
}
