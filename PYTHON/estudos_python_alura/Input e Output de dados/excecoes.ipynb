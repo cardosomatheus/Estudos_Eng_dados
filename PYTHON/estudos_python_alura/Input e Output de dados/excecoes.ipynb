{
 "cells": [
  {
   "cell_type": "code",
   "execution_count": 5,
   "metadata": {},
   "outputs": [
    {
     "name": "stdout",
     "output_type": "stream",
     "text": [
      "Estudante não matriculado.\n"
     ]
    }
   ],
   "source": [
    "notas = {'João': [8.0, 9.0, 10.0], 'Maria': [9.0, 7.0, 6.0], 'José': [3.4, 7.0, 8.0],'Cláudia': [5.5, 6.6, 8.0], \n",
    "         'Ana': [6.0, 10.0, 9.5], 'Joaquim': [5.5, 7.5, 9.0], 'Júlia': [6.0, 8.0, 7.0], 'Pedro': [3.0, 4.0, 6.0]}\n",
    "\n",
    "nome = str(input('Informe o aluno: ')).capitalize()\n",
    "try:\n",
    "    print(notas[nome])\n",
    "except KeyError:\n",
    "    print('Estudante não matriculado.')"
   ]
  },
  {
   "cell_type": "code",
   "execution_count": 14,
   "metadata": {},
   "outputs": [],
   "source": [
    "def media (lista: list=[0]) -> float:\n",
    "    try:\n",
    "        calculo = sum(lista)/len(lista)\n",
    "    \n",
    "    except TypeError:\n",
    "        print('error de tipo')\n",
    "    \n",
    "    \n",
    "    if len(lista) > 4:\n",
    "        raise ValueError(\"a lista possui mais que 4 notas\")\n",
    "\n",
    "    \n",
    "    return calculo"
   ]
  },
  {
   "cell_type": "code",
   "execution_count": 16,
   "metadata": {},
   "outputs": [
    {
     "data": {
      "text/plain": [
       "6.55"
      ]
     },
     "execution_count": 16,
     "metadata": {},
     "output_type": "execute_result"
    }
   ],
   "source": [
    "media([6,6.7,6.7,6.8])"
   ]
  },
  {
   "cell_type": "markdown",
   "metadata": {},
   "source": [
    "#### Faça um programa que solicite à pessoa usuária digitar dois números float e calcular a divisão entre esses números. O código deve conter um tratamento de erro, indicando o tipo de erro que foi gerado caso a divisão não seja possível de realizar.   Teste o programa com o segundo valor numérico do input igual a 0. Também teste utilizando caracteres textuais no input para checar os tipos de erro que ocorrem.\n",
    "\n",
    "\n"
   ]
  },
  {
   "cell_type": "code",
   "execution_count": 7,
   "metadata": {},
   "outputs": [
    {
     "name": "stdout",
     "output_type": "stream",
     "text": [
      "float division by zero\n",
      "impossivel dividir por 0\n"
     ]
    }
   ],
   "source": [
    "try:\n",
    "    numero  = float(input('informe um numero: '))\n",
    "    divisor = float(input('divisor: '))\n",
    "    numero_divido = numero/divisor\n",
    "    print(numero_divido)\n",
    "\n",
    "except ValueError as err:\n",
    "    print(err)\n",
    "    print('valor não numerico')\n",
    "except ZeroDivisionError as err:\n",
    "    print(err)\n",
    "    print('impossivel dividir por 0')"
   ]
  },
  {
   "cell_type": "markdown",
   "metadata": {},
   "source": [
    "#### Crie uma função que recebe uma lista como parâmetro e converta todos os valores da lista para float. A função deve conter um tratamento de erro indicando o tipo de erro gerado e retornar a lista caso não tenha ocorrido nenhum erro. Por fim, deve ter a cláusula finally para imprimir o texto: 'Fim da execução da função'."
   ]
  },
  {
   "cell_type": "code",
   "execution_count": 37,
   "metadata": {},
   "outputs": [],
   "source": [
    "def df_lista(lista: list):\n",
    "    for i in lista:\n",
    "        if type(i) == float or type(i) == int:\n",
    "            continue\n",
    "        else:\n",
    "            raise ValueError (\"Valor não numerico\")\n",
    "    \n",
    "    return lista\n",
    "\n",
    "\n",
    "df_lista([2,3,5.6,66,35])"
   ]
  },
  {
   "cell_type": "markdown",
   "metadata": {},
   "source": [
    "##### Crie uma função que recebe duas listas como parâmetros e agrupe os elementos um a um das listas, formando uma lista de tuplas de 3 elementos, no qual o primeiro e segundo elemento da tupla são os valores na posição i das listas e o terceiro elemento é a soma dos valores na posição i das listas."
   ]
  },
  {
   "cell_type": "code",
   "execution_count": 54,
   "metadata": {},
   "outputs": [
    {
     "data": {
      "text/plain": [
       "[(1, 2, 3), (2, 5, 7), (5, 3, 8)]"
      ]
     },
     "execution_count": 54,
     "metadata": {},
     "output_type": "execute_result"
    }
   ],
   "source": [
    "def df_listas (lista: list, lista2: list):\n",
    "    lista_completa = []\n",
    "    try:\n",
    "        for i in range(len(lista)):\n",
    "            lista_completa.append((lista[i],lista2[i],lista[i]+lista2[i]))\n",
    "    except ValueError:\n",
    "        print('valor invalido na soma')\n",
    "\n",
    "\n",
    "    return lista_completa\n",
    "\n",
    "df_listas([1,2,5,],[2,5,3])\n"
   ]
  }
 ],
 "metadata": {
  "kernelspec": {
   "display_name": "Python 3",
   "language": "python",
   "name": "python3"
  },
  "language_info": {
   "codemirror_mode": {
    "name": "ipython",
    "version": 3
   },
   "file_extension": ".py",
   "mimetype": "text/x-python",
   "name": "python",
   "nbconvert_exporter": "python",
   "pygments_lexer": "ipython3",
   "version": "3.10.7"
  },
  "orig_nbformat": 4
 },
 "nbformat": 4,
 "nbformat_minor": 2
}
