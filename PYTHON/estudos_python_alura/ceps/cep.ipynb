{
 "cells": [
  {
   "cell_type": "code",
   "execution_count": null,
   "metadata": {},
   "outputs": [
    {
     "ename": "",
     "evalue": "",
     "output_type": "error",
     "traceback": [
      "\u001b[1;31mFalha ao iniciar o kernel devido ao módulo ausente \"prompt_toolkit.formatted_text\". Considere instalar este módulo.\n",
      "\u001b[1;31mClique <a href=\"https://aka.ms/kernelFailuresMissingModule\">aqui</a> para obter mais informações."
     ]
    }
   ],
   "source": [
    "import pandas "
   ]
  }
 ],
 "metadata": {
  "kernelspec": {
   "display_name": "Python 3",
   "language": "python",
   "name": "python3"
  },
  "language_info": {
   "name": "python",
   "version": "3.10.7"
  },
  "orig_nbformat": 4
 },
 "nbformat": 4,
 "nbformat_minor": 2
}
